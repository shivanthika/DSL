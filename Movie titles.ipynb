{
 "cells": [
  {
   "cell_type": "code",
   "execution_count": 1,
   "id": "68805da9",
   "metadata": {},
   "outputs": [],
   "source": [
    "import pandas as pd"
   ]
  },
  {
   "cell_type": "code",
   "execution_count": 7,
   "id": "23ad64bb",
   "metadata": {},
   "outputs": [
    {
     "data": {
      "text/html": [
       "<div>\n",
       "<style scoped>\n",
       "    .dataframe tbody tr th:only-of-type {\n",
       "        vertical-align: middle;\n",
       "    }\n",
       "\n",
       "    .dataframe tbody tr th {\n",
       "        vertical-align: top;\n",
       "    }\n",
       "\n",
       "    .dataframe thead th {\n",
       "        text-align: right;\n",
       "    }\n",
       "</style>\n",
       "<table border=\"1\" class=\"dataframe\">\n",
       "  <thead>\n",
       "    <tr style=\"text-align: right;\">\n",
       "      <th></th>\n",
       "      <th>title</th>\n",
       "      <th>year</th>\n",
       "    </tr>\n",
       "  </thead>\n",
       "  <tbody>\n",
       "    <tr>\n",
       "      <th>0</th>\n",
       "      <td>The Last Mimzy</td>\n",
       "      <td>2007</td>\n",
       "    </tr>\n",
       "    <tr>\n",
       "      <th>1</th>\n",
       "      <td>The Fighting Sheriff</td>\n",
       "      <td>1925</td>\n",
       "    </tr>\n",
       "    <tr>\n",
       "      <th>2</th>\n",
       "      <td>Giftes - nej tak!</td>\n",
       "      <td>1936</td>\n",
       "    </tr>\n",
       "    <tr>\n",
       "      <th>3</th>\n",
       "      <td>Sourdough</td>\n",
       "      <td>1981</td>\n",
       "    </tr>\n",
       "    <tr>\n",
       "      <th>4</th>\n",
       "      <td>A Time to Kill</td>\n",
       "      <td>1955</td>\n",
       "    </tr>\n",
       "  </tbody>\n",
       "</table>\n",
       "</div>"
      ],
      "text/plain": [
       "                  title  year\n",
       "0        The Last Mimzy  2007\n",
       "1  The Fighting Sheriff  1925\n",
       "2     Giftes - nej tak!  1936\n",
       "3             Sourdough  1981\n",
       "4        A Time to Kill  1955"
      ]
     },
     "execution_count": 7,
     "metadata": {},
     "output_type": "execute_result"
    }
   ],
   "source": [
    "titles = pd.read_csv('titles.csv')\n",
    "titles.head()\n",
    "\n",
    "\n"
   ]
  },
  {
   "cell_type": "markdown",
   "id": "2c8d5504",
   "metadata": {},
   "source": [
    "## 1. Using groupby(), plot the number of films that have been released each decade in the history of cinema."
   ]
  },
  {
   "cell_type": "code",
   "execution_count": null,
   "id": "8cf2718e",
   "metadata": {},
   "outputs": [],
   "source": []
  },
  {
   "cell_type": "markdown",
   "id": "37220311",
   "metadata": {},
   "source": [
    "## 2. Use `groupby()` to plot the number of 'Hamlet' movies made each decade."
   ]
  },
  {
   "cell_type": "code",
   "execution_count": null,
   "id": "14e4f783",
   "metadata": {},
   "outputs": [],
   "source": []
  },
  {
   "cell_type": "markdown",
   "id": "dd1175c0",
   "metadata": {},
   "source": [
    "## 3. For each decade, plot all movies of which the title contains \"Hamlet\"."
   ]
  },
  {
   "cell_type": "code",
   "execution_count": null,
   "id": "4f149d1f",
   "metadata": {},
   "outputs": [],
   "source": []
  },
  {
   "cell_type": "markdown",
   "id": "2f52ed29",
   "metadata": {},
   "source": [
    "## 4. List the 10 actors/actresses that have the most leading roles (n=1) since the 1990's."
   ]
  },
  {
   "cell_type": "code",
   "execution_count": null,
   "id": "a0c4905f",
   "metadata": {},
   "outputs": [],
   "source": []
  },
  {
   "cell_type": "markdown",
   "id": "10e05ab3",
   "metadata": {},
   "source": [
    "## 5. In a previous exercise, the number of 'Hamlet' films released each decade was checked. Not all titles are exactly called 'Hamlet'. Give an overview of the titles that contain 'Hamlet' and an overview of the titles that start with 'Hamlet', each time providing the amount of occurrences in the data set for each of the movies"
   ]
  },
  {
   "cell_type": "code",
   "execution_count": null,
   "id": "52ccc490",
   "metadata": {},
   "outputs": [],
   "source": []
  },
  {
   "cell_type": "markdown",
   "id": "a9acf53a",
   "metadata": {},
   "source": [
    "## 6. List the 10 movie titles with the longest name."
   ]
  },
  {
   "cell_type": "code",
   "execution_count": null,
   "id": "4e157bb7",
   "metadata": {},
   "outputs": [],
   "source": []
  },
  {
   "cell_type": "markdown",
   "id": "5f8514b0",
   "metadata": {},
   "source": [
    "## 7. How many leading (n=1) roles were available to actors, and how many to actresses, in each year of the 1950s?"
   ]
  },
  {
   "cell_type": "code",
   "execution_count": null,
   "id": "30df045a",
   "metadata": {},
   "outputs": [],
   "source": []
  },
  {
   "cell_type": "markdown",
   "id": "921be342",
   "metadata": {},
   "source": [
    "## 8. What are the 11 most common character names in movie history?"
   ]
  },
  {
   "cell_type": "code",
   "execution_count": null,
   "id": "83cfe2d6",
   "metadata": {},
   "outputs": [],
   "source": []
  },
  {
   "cell_type": "markdown",
   "id": "33f4135d",
   "metadata": {},
   "source": [
    "## 9. Plot how many roles Brad Pitt has played in each year of his career."
   ]
  },
  {
   "cell_type": "code",
   "execution_count": null,
   "id": "0d0e0fc2",
   "metadata": {},
   "outputs": [],
   "source": []
  },
  {
   "cell_type": "markdown",
   "id": "dae52202",
   "metadata": {},
   "source": [
    "## 10. What are the 10 most occurring movie titles that start with the words 'The Life'?"
   ]
  },
  {
   "cell_type": "code",
   "execution_count": null,
   "id": "94b15ce2",
   "metadata": {},
   "outputs": [],
   "source": []
  },
  {
   "cell_type": "markdown",
   "id": "a5fccd7e",
   "metadata": {},
   "source": [
    "## 11. Which actors or actresses were most active in the year 2010 (i.e. appeared in the most movies)?"
   ]
  },
  {
   "cell_type": "code",
   "execution_count": null,
   "id": "a563fd44",
   "metadata": {},
   "outputs": [],
   "source": []
  },
  {
   "cell_type": "markdown",
   "id": "e9e64906",
   "metadata": {},
   "source": [
    "## 12. Determine how many roles are listed for each of 'The Pink Panther' movies."
   ]
  },
  {
   "cell_type": "code",
   "execution_count": null,
   "id": "03c0322d",
   "metadata": {},
   "outputs": [],
   "source": []
  },
  {
   "cell_type": "markdown",
   "id": "9de5bd33",
   "metadata": {},
   "source": [
    "## 13. List, in order by year, each of the movies in which 'Frank Oz' has played more than 1 role."
   ]
  },
  {
   "cell_type": "code",
   "execution_count": null,
   "id": "6c9f8914",
   "metadata": {},
   "outputs": [],
   "source": []
  },
  {
   "cell_type": "markdown",
   "id": "127a6ae9",
   "metadata": {},
   "source": [
    "## 14. List each of the characters that Frank Oz has portrayed at least twice."
   ]
  },
  {
   "cell_type": "code",
   "execution_count": null,
   "id": "03f77373",
   "metadata": {},
   "outputs": [],
   "source": []
  },
  {
   "cell_type": "markdown",
   "id": "5f7d06c1",
   "metadata": {},
   "source": [
    "## 15. Calculate the ratio of leading actor and actress roles to the total number of leading roles per decade."
   ]
  },
  {
   "cell_type": "code",
   "execution_count": null,
   "id": "d8f68614",
   "metadata": {},
   "outputs": [],
   "source": []
  },
  {
   "cell_type": "markdown",
   "id": "d86de651",
   "metadata": {},
   "source": [
    "## 16. In which years the most films were released?"
   ]
  },
  {
   "cell_type": "code",
   "execution_count": null,
   "id": "3edca509",
   "metadata": {},
   "outputs": [],
   "source": []
  },
  {
   "cell_type": "markdown",
   "id": "21d8ad0f",
   "metadata": {},
   "source": [
    "## 17. How many leading (n=1) roles were available to actors, and how many to actresses, in the 1950s? And in 2000s?"
   ]
  },
  {
   "cell_type": "code",
   "execution_count": null,
   "id": "b2d783cc",
   "metadata": {},
   "outputs": [],
   "source": []
  },
  {
   "cell_type": "markdown",
   "id": "77d4836d",
   "metadata": {},
   "source": [
    "## Write Commnets"
   ]
  },
  {
   "cell_type": "code",
   "execution_count": null,
   "id": "1820a745",
   "metadata": {},
   "outputs": [],
   "source": []
  }
 ],
 "metadata": {
  "kernelspec": {
   "display_name": "Python 3 (ipykernel)",
   "language": "python",
   "name": "python3"
  },
  "language_info": {
   "codemirror_mode": {
    "name": "ipython",
    "version": 3
   },
   "file_extension": ".py",
   "mimetype": "text/x-python",
   "name": "python",
   "nbconvert_exporter": "python",
   "pygments_lexer": "ipython3",
   "version": "3.11.4"
  }
 },
 "nbformat": 4,
 "nbformat_minor": 5
}
